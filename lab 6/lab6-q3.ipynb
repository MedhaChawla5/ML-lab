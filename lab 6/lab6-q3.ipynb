{
 "cells": [
  {
   "cell_type": "markdown",
   "id": "5f823cf2",
   "metadata": {},
   "source": [
    "    5. Consider positive and negative slope dataset given below. Apply simple linear regression with gradient descent and illustrate the difference between slope values for both cases at different iterations. Plot the graph of slope(x-axis) vs  MSE (y-axis) for both case separately. \n",
    "x = np.array([1, 2, 4, 3, 5])\n",
    "y = np.array([1, 3, 3, 2, 5])  # Positive slope\n",
    "\n",
    "x = np.array([1, 2, 3, 4, 5])\n",
    "y = np.array([10, 8, 6, 4, 2])  # Negative slope"
   ]
  }
 ],
 "metadata": {
  "kernelspec": {
   "display_name": "Python 3 (ipykernel)",
   "language": "python",
   "name": "python3"
  },
  "language_info": {
   "codemirror_mode": {
    "name": "ipython",
    "version": 3
   },
   "file_extension": ".py",
   "mimetype": "text/x-python",
   "name": "python",
   "nbconvert_exporter": "python",
   "pygments_lexer": "ipython3",
   "version": "3.12.3"
  }
 },
 "nbformat": 4,
 "nbformat_minor": 5
}
