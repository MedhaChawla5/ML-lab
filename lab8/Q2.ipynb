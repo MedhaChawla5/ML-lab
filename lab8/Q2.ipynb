{
 "cells": [
  {
   "cell_type": "markdown",
   "id": "aa086485",
   "metadata": {},
   "source": [
    "# Q2 A. Medical Diagnosis Decision\n",
    "\n",
    "A dataset is provided to classify patients as \"Healthy\" or \"Sick\" based on their Age, Blood Pressure, and\n",
    "Cholesterol levels."
   ]
  },
  {
   "cell_type": "code",
   "execution_count": 2,
   "id": "7652ff26",
   "metadata": {},
   "outputs": [],
   "source": [
    "import numpy as np\n",
    "import pandas as pd\n",
    "import matplotlib.pyplot as plt"
   ]
  },
  {
   "cell_type": "code",
   "execution_count": 11,
   "id": "9a347f94",
   "metadata": {},
   "outputs": [
    {
     "data": {
      "text/html": [
       "<div>\n",
       "<style scoped>\n",
       "    .dataframe tbody tr th:only-of-type {\n",
       "        vertical-align: middle;\n",
       "    }\n",
       "\n",
       "    .dataframe tbody tr th {\n",
       "        vertical-align: top;\n",
       "    }\n",
       "\n",
       "    .dataframe thead th {\n",
       "        text-align: right;\n",
       "    }\n",
       "</style>\n",
       "<table border=\"1\" class=\"dataframe\">\n",
       "  <thead>\n",
       "    <tr style=\"text-align: right;\">\n",
       "      <th></th>\n",
       "      <th>age</th>\n",
       "      <th>bp</th>\n",
       "      <th>cholesterol</th>\n",
       "      <th>diagnosis</th>\n",
       "    </tr>\n",
       "  </thead>\n",
       "  <tbody>\n",
       "    <tr>\n",
       "      <th>0</th>\n",
       "      <td>30</td>\n",
       "      <td>high</td>\n",
       "      <td>high</td>\n",
       "      <td>sick</td>\n",
       "    </tr>\n",
       "    <tr>\n",
       "      <th>1</th>\n",
       "      <td>45</td>\n",
       "      <td>low</td>\n",
       "      <td>normal</td>\n",
       "      <td>healthy</td>\n",
       "    </tr>\n",
       "    <tr>\n",
       "      <th>2</th>\n",
       "      <td>50</td>\n",
       "      <td>high</td>\n",
       "      <td>high</td>\n",
       "      <td>sick</td>\n",
       "    </tr>\n",
       "    <tr>\n",
       "      <th>3</th>\n",
       "      <td>35</td>\n",
       "      <td>low</td>\n",
       "      <td>normal</td>\n",
       "      <td>healthy</td>\n",
       "    </tr>\n",
       "    <tr>\n",
       "      <th>4</th>\n",
       "      <td>60</td>\n",
       "      <td>high</td>\n",
       "      <td>high</td>\n",
       "      <td>sick</td>\n",
       "    </tr>\n",
       "    <tr>\n",
       "      <th>5</th>\n",
       "      <td>55</td>\n",
       "      <td>low</td>\n",
       "      <td>normal</td>\n",
       "      <td>healthy</td>\n",
       "    </tr>\n",
       "    <tr>\n",
       "      <th>6</th>\n",
       "      <td>40</td>\n",
       "      <td>high</td>\n",
       "      <td>high</td>\n",
       "      <td>sick</td>\n",
       "    </tr>\n",
       "    <tr>\n",
       "      <th>7</th>\n",
       "      <td>25</td>\n",
       "      <td>low</td>\n",
       "      <td>normal</td>\n",
       "      <td>healthy</td>\n",
       "    </tr>\n",
       "    <tr>\n",
       "      <th>8</th>\n",
       "      <td>65</td>\n",
       "      <td>high</td>\n",
       "      <td>high</td>\n",
       "      <td>sick</td>\n",
       "    </tr>\n",
       "    <tr>\n",
       "      <th>9</th>\n",
       "      <td>45</td>\n",
       "      <td>low</td>\n",
       "      <td>normal</td>\n",
       "      <td>healthy</td>\n",
       "    </tr>\n",
       "  </tbody>\n",
       "</table>\n",
       "</div>"
      ],
      "text/plain": [
       "   age    bp cholesterol diagnosis\n",
       "0   30  high        high      sick\n",
       "1   45   low      normal   healthy\n",
       "2   50  high        high      sick\n",
       "3   35   low      normal   healthy\n",
       "4   60  high        high      sick\n",
       "5   55   low      normal   healthy\n",
       "6   40  high        high      sick\n",
       "7   25   low      normal   healthy\n",
       "8   65  high        high      sick\n",
       "9   45   low      normal   healthy"
      ]
     },
     "execution_count": 11,
     "metadata": {},
     "output_type": "execute_result"
    }
   ],
   "source": [
    "data = {\n",
    "    'age': [30, 45, 50, 35, 60, 55, 40, 25, 65, 45],\n",
    "    'bp': ['high', 'low', 'high', 'low', 'high', 'low', 'high', 'low', 'high', 'low'],\n",
    "    'cholesterol': ['high', 'normal', 'high', 'normal', 'high', 'normal', 'high', 'normal', 'high', 'normal'],\n",
    "    'diagnosis' : ['sick', 'healthy', 'sick', 'healthy', 'sick', 'healthy', 'sick', 'healthy', 'sick', 'healthy'],\n",
    "}\n",
    "\n",
    "df = pd.DataFrame(data)\n",
    "df"
   ]
  },
  {
   "cell_type": "code",
   "execution_count": 12,
   "id": "bd0e0e4a",
   "metadata": {},
   "outputs": [],
   "source": [
    "def calculate_entropy(target):\n",
    "    # Calculate the probability of each class\n",
    "    probabilities = target.value_counts(normalize=True)\n",
    "    entropy = -np.sum(probabilities * np.log2(probabilities))\n",
    "    return entropy"
   ]
  },
  {
   "cell_type": "code",
   "execution_count": 13,
   "id": "d7c2d1b2",
   "metadata": {},
   "outputs": [
    {
     "name": "stdout",
     "output_type": "stream",
     "text": [
      "Entropy of Diagnosis: 1.0\n"
     ]
    }
   ],
   "source": [
    "entropy_diagnosis = calculate_entropy(df['diagnosis'])\n",
    "print(f\"Entropy of Diagnosis: {entropy_diagnosis}\")"
   ]
  },
  {
   "cell_type": "code",
   "execution_count": 14,
   "id": "1db41a50",
   "metadata": {},
   "outputs": [],
   "source": [
    "def calculate_information_gain(df, feature, target):\n",
    "    total_entropy = calculate_entropy(df[target])\n",
    "    \n",
    "    feature_entropy = 0\n",
    "    for value in df[feature].unique():\n",
    "        subset = df[df[feature] == value]\n",
    "        weight = len(subset) / len(df)\n",
    "        feature_entropy += weight * calculate_entropy(subset[target])\n",
    "    \n",
    "    information_gain = total_entropy - feature_entropy\n",
    "    return information_gain"
   ]
  },
  {
   "cell_type": "code",
   "execution_count": 15,
   "id": "91a47db0",
   "metadata": {},
   "outputs": [
    {
     "name": "stdout",
     "output_type": "stream",
     "text": [
      "Information Gains:\n",
      "age: 1.0\n",
      "bp: 1.0\n",
      "cholesterol: 1.0\n"
     ]
    }
   ],
   "source": [
    "features = ['age', 'bp', 'cholesterol']\n",
    "information_gains = {feature: calculate_information_gain(df, feature, 'diagnosis') for feature in features}\n",
    "\n",
    "print(\"Information Gains:\")\n",
    "for feature, gain in information_gains.items():\n",
    "    print(f\"{feature}: {gain}\")"
   ]
  },
  {
   "cell_type": "code",
   "execution_count": 16,
   "id": "48d5f603",
   "metadata": {},
   "outputs": [
    {
     "name": "stdout",
     "output_type": "stream",
     "text": [
      "Best feature to split on: age\n"
     ]
    }
   ],
   "source": [
    "best_feature = max(information_gains, key=information_gains.get)\n",
    "print(f\"Best feature to split on: {best_feature}\")"
   ]
  },
  {
   "cell_type": "code",
   "execution_count": 17,
   "id": "23f96256",
   "metadata": {},
   "outputs": [],
   "source": [
    "class Node:\n",
    "    def __init__(self, feature=None, value=None, left=None, right=None, prediction=None):\n",
    "        self.feature = feature\n",
    "        self.value = value\n",
    "        self.left = left\n",
    "        self.right = right\n",
    "        self.prediction = prediction\n",
    "\n",
    "def build_tree(df, target):\n",
    "    if len(df[target].unique()) == 1:\n",
    "        return Node(prediction=df[target].iloc[0])\n",
    "    \n",
    "    if len(df.columns) == 1:\n",
    "        return Node(prediction=df[target].mode()[0])\n",
    "    \n",
    "    best_feature = max(features, key=lambda feature: calculate_information_gain(df, feature, target))\n",
    "    tree = Node(feature=best_feature)\n",
    "    \n",
    "    for value in df[best_feature].unique():\n",
    "        subset = df[df[best_feature] == value]\n",
    "        tree_value = build_tree(subset.drop(columns=[best_feature]), target)\n",
    "        if tree_value is None:\n",
    "            continue\n",
    "        if tree.left is None:\n",
    "            tree.left = tree_value\n",
    "        else:\n",
    "            tree.right = tree_value\n",
    "            \n",
    "    return tree\n",
    "\n",
    "decision_tree = build_tree(df, 'diagnosis')"
   ]
  },
  {
   "cell_type": "code",
   "execution_count": 18,
   "id": "0e68de72",
   "metadata": {},
   "outputs": [],
   "source": [
    "def predict(tree, sample):\n",
    "    if tree.prediction is not None:\n",
    "        return tree.prediction\n",
    "    \n",
    "    feature_value = sample[tree.feature]\n",
    "    \n",
    "    if feature_value == 'low':\n",
    "        return predict(tree.left, sample)\n",
    "    else:\n",
    "        return predict(tree.right, sample)"
   ]
  },
  {
   "cell_type": "code",
   "execution_count": 19,
   "id": "659ebba5",
   "metadata": {},
   "outputs": [
    {
     "name": "stdout",
     "output_type": "stream",
     "text": [
      "The prediction for the new patient is: sick\n"
     ]
    }
   ],
   "source": [
    "new_patient = {'age': 50, 'bp': 'low', 'cholesterol': 'normal'}\n",
    "result = predict(decision_tree, new_patient)\n",
    "print(f\"The prediction for the new patient is: {result}\")"
   ]
  },
  {
   "cell_type": "code",
   "execution_count": null,
   "id": "157d526f",
   "metadata": {},
   "outputs": [],
   "source": []
  }
 ],
 "metadata": {
  "kernelspec": {
   "display_name": "Python 3 (ipykernel)",
   "language": "python",
   "name": "python3"
  },
  "language_info": {
   "codemirror_mode": {
    "name": "ipython",
    "version": 3
   },
   "file_extension": ".py",
   "mimetype": "text/x-python",
   "name": "python",
   "nbconvert_exporter": "python",
   "pygments_lexer": "ipython3",
   "version": "3.12.3"
  }
 },
 "nbformat": 4,
 "nbformat_minor": 5
}
