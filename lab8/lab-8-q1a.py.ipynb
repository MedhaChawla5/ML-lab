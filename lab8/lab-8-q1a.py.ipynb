{
 "cells": [
  {
   "cell_type": "code",
   "execution_count": 1,
   "id": "d69fcfd8",
   "metadata": {},
   "outputs": [
    {
     "name": "stdout",
     "output_type": "stream",
     "text": [
      "   fruitid  weight  sweetness   label\n",
      "0        1     180          7   Apple\n",
      "1        2     200          6   Apple\n",
      "2        3     150          4  Orange\n",
      "3        4     170          5  Orange\n",
      "4        5     160          6   Apple\n",
      "5        6     140          3  Orange\n"
     ]
    }
   ],
   "source": [
    "import matplotlib.pyplot as plt \n",
    "import pandas as pd\n",
    "import numpy as np\n",
    "df = pd.read_csv(\"q1data.csv\")\n",
    "print(df)"
   ]
  },
  {
   "cell_type": "code",
   "execution_count": 21,
   "id": "4fc554ab",
   "metadata": {},
   "outputs": [
    {
     "name": "stdout",
     "output_type": "stream",
     "text": [
      "Classified as : Apple\n"
     ]
    }
   ],
   "source": [
    "x = df[\"weight\"]\n",
    "y = df[\"sweetness\"]\n",
    "z = df[\"fruitid\"]\n",
    "l = df[\"label\"]\n",
    "def knearest(k,w,s):\n",
    "    d = {}\n",
    "    for i in range(len(x)):\n",
    "        d[z[i]] = (x[i]-w)**2 + (y[i]-s)**2\n",
    "    sorted_d = {k: v for k, v in sorted(d.items(), key=lambda item: item[1])}\n",
    "    count_apple = 0\n",
    "    count_orange = 0\n",
    "    for i,j in sorted_d.items():\n",
    "        if(l[i-1]=='Apple'):\n",
    "            count_apple +=1\n",
    "        else:\n",
    "            count_orange +=1\n",
    "        k = k-1\n",
    "        if k==0:\n",
    "            break\n",
    "    if count_apple==count_orange:\n",
    "        print(\"Ambiguous\")\n",
    "    elif count_apple>count_orange:\n",
    "        print(\"Classified as : Apple\")\n",
    "    else:\n",
    "        print(\"Classified as : Orange\")\n",
    "            \n",
    "\n",
    "knearest(3,165,5.5)\n",
    "        \n",
    "    "
   ]
  },
  {
   "cell_type": "code",
   "execution_count": 18,
   "id": "2e9afc74",
   "metadata": {},
   "outputs": [
    {
     "name": "stdout",
     "output_type": "stream",
     "text": [
      "   fruitid  weight  sweetness   label  Manhattan  Euclidean  Minkowski\n",
      "0        1     180          7   Apple       16.5  15.074813  15.004998\n",
      "1        2     200          6   Apple       35.5  35.003571  35.000034\n",
      "2        3     150          4  Orange       16.5  15.074813  15.004998\n",
      "3        4     170          5  Orange        5.5   5.024938   5.001666\n",
      "4        5     160          6   Apple        5.5   5.024938   5.001666\n",
      "5        6     140          3  Orange       27.5  25.124689  25.008331\n"
     ]
    }
   ],
   "source": [
    "import math\n",
    "w = 165\n",
    "s = 5.5\n",
    "df[\"Manhattan\"] = [abs(x[i]-w)+abs(y[i]-s) for i in range(len(x))]\n",
    "df[\"Euclidean\"] = [((x[i]-w)**2+(y[i]-s)**2)**0.5 for i in range(len(x))]\n",
    "p = 3\n",
    "df[\"Minkowski\"] = [((abs(x[i]-w))**p+(abs(y[i]-s))**p)**(1/p) for i in range(len(x))]\n",
    "print(df)"
   ]
  },
  {
   "cell_type": "code",
   "execution_count": 22,
   "id": "90a0bb8e",
   "metadata": {},
   "outputs": [
    {
     "name": "stdout",
     "output_type": "stream",
     "text": [
      "Classified as : Orange\n"
     ]
    }
   ],
   "source": [
    "knearest(1,165,5.5)"
   ]
  },
  {
   "cell_type": "code",
   "execution_count": 24,
   "id": "efe41c17",
   "metadata": {},
   "outputs": [
    {
     "name": "stdout",
     "output_type": "stream",
     "text": [
      "Classified as : Orange\n"
     ]
    }
   ],
   "source": [
    "knearest(5,165,5.5)"
   ]
  },
  {
   "cell_type": "code",
   "execution_count": 35,
   "id": "fde885d8",
   "metadata": {},
   "outputs": [
    {
     "data": {
      "image/png": "[encoded data removed]",
      "text/plain": [
       "<Figure size 640x480 with 1 Axes>"
      ]
     },
     "metadata": {},
     "output_type": "display_data"
    }
   ],
   "source": [
    "apples_x=[]\n",
    "apples_y = []\n",
    "orange_x = []\n",
    "orange_y=[]\n",
    "for i in range(len(x)):\n",
    "    if(l[i]==\"Apple\"):\n",
    "        apples_x.append(x[i])\n",
    "        apples_y.append(y[i])\n",
    "    else:\n",
    "        orange_x.append(x[i])\n",
    "        orange_y.append(y[i])\n",
    "plt.scatter(apples_x,apples_y,color = 'red',label = \"Apple\",s=100)\n",
    "plt.scatter(orange_x,orange_y,color = 'orange',label = \"Orange\",s=100)\n",
    "plt.xlabel(\"weight\")\n",
    "plt.ylabel(\"sweetness\")\n",
    "plt.legend()\n",
    "plt.show()"
   ]
  },
  {
   "cell_type": "code",
   "execution_count": null,
   "id": "a17a3028",
   "metadata": {},
   "outputs": [],
   "source": []
  }
 ],
 "metadata": {
  "kernelspec": {
   "display_name": "Python 3 (ipykernel)",
   "language": "python",
   "name": "python3"
  },
  "language_info": {
   "codemirror_mode": {
    "name": "ipython",
    "version": 3
   },
   "file_extension": ".py",
   "mimetype": "text/x-python",
   "name": "python",
   "nbconvert_exporter": "python",
   "pygments_lexer": "ipython3",
   "version": "3.12.3"
  }
 },
 "nbformat": 4,
 "nbformat_minor": 5
}
