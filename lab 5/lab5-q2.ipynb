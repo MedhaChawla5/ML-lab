{
 "cells": [
  {
   "cell_type": "code",
   "execution_count": null,
   "id": "3ac0ad9c",
   "metadata": {},
   "outputs": [],
   "source": []
  },
  {
   "cell_type": "code",
   "execution_count": 26,
   "id": "081edfca",
   "metadata": {},
   "outputs": [
    {
     "name": "stdout",
     "output_type": "stream",
     "text": [
      "CSV file created successfully.\n",
      "\n",
      "Final coefficients: [-4.04555597  0.9765604 ]\n",
      "\n",
      "Accuracy: 100.00%\n",
      "Probability of passing for 3.5 hours of study: 0.3481\n",
      "Fail\n",
      "Probability of passing for 7.5 hours of study: 0.9637\n",
      "Pass\n"
     ]
    },
    {
     "data": {
      "image/png": "[encoded data removed]",
      "text/plain": [
       "<Figure size 640x480 with 1 Axes>"
      ]
     },
     "metadata": {},
     "output_type": "display_data"
    }
   ],
   "source": [
    "import numpy as np\n",
    "import pandas as pd\n",
    "import matplotlib.pyplot as plt\n",
    "\n",
    "data = {\n",
    "    'hours': [1, 2, 3, 4, 5, 6, 7, 8],\n",
    "    'pass': [0, 0, 0, 0, 1, 1, 1, 1]\n",
    "}\n",
    "df = pd.DataFrame(data)\n",
    "csv_file = 'ppass.csv'\n",
    "df.to_csv(csv_file, index=False)\n",
    "print('CSV file created successfully.')\n",
    "\n",
    "def sigmoid(z):\n",
    "    return 1 / (1 + np.exp(-z))\n",
    "\n",
    "def compute_cost(X, y, theta):\n",
    "    m = len(y)\n",
    "    h = sigmoid(X @ theta)\n",
    "    cost = (-1/m) * np.sum(y * np.log(h) + (1 - y) * np.log(1 - h))\n",
    "    return cost\n",
    "\n",
    "def gradient_descent(X, y, theta, alpha, iterations):\n",
    "    m = len(y)\n",
    "    costs = []\n",
    "    \n",
    "    for i in range(iterations):\n",
    "        predictions = sigmoid(X @ theta)\n",
    "        errors = predictions - y\n",
    "        gradient = (1/m) * (X.T @ errors)\n",
    "        theta -= alpha * gradient\n",
    "        cost = compute_cost(X, y, theta)\n",
    "        costs.append(cost)\n",
    "    \n",
    "    return theta, costs\n",
    "\n",
    "df = pd.read_csv(csv_file)\n",
    "X = df['hours'].values\n",
    "y = df['pass'].values\n",
    "\n",
    "\n",
    "X = np.vstack([np.ones(len(X)), X]).T\n",
    "theta = np.zeros(X.shape[1])\n",
    "alpha = 0.1\n",
    "iterations = 500  \n",
    "\n",
    "theta, costs = gradient_descent(X, y, theta, alpha, iterations)\n",
    "\n",
    "print(f'\\nFinal coefficients: {theta}')\n",
    "\n",
    "\n",
    "def predict_prob(x, theta):\n",
    "    return sigmoid(np.dot(x, theta))\n",
    "\n",
    "def predict(x, theta):\n",
    "    return np.round(predict_prob(x, theta))\n",
    "\n",
    "predictions = predict(X, theta)\n",
    "accuracy = np.mean(predictions == y)\n",
    "print(f'\\nAccuracy: {accuracy * 100:.2f}%')\n",
    "\n",
    "\n",
    "X_new = np.array([1, 3.5])\n",
    "prob_3_5 = predict_prob(X_new, theta)\n",
    "X_new = np.array([1, 7.5])\n",
    "prob_7_5 = predict_prob(X_new, theta)\n",
    "\n",
    "print(f'Probability of passing for 3.5 hours of study: {prob_3_5:.4f}')\n",
    "if(prob_3_5 >= 0.5):\n",
    "    print(\"Pass\")\n",
    "else:\n",
    "    print('Fail')\n",
    "print(f'Probability of passing for 7.5 hours of study: {prob_7_5:.4f}')\n",
    "if(prob_7_5 >= 0.5):\n",
    "    print(\"Pass\")\n",
    "else:\n",
    "    print('Fail')\n",
    "\n",
    "plt.plot(range(1, iterations + 1), costs, marker='o')\n",
    "plt.xlabel('Iterations')\n",
    "plt.ylabel('Cost')\n",
    "plt.title('Cost vs Iterations')\n",
    "plt.grid(True)\n",
    "plt.show()\n"
   ]
  },
  {
   "cell_type": "code",
   "execution_count": null,
   "id": "159ffafe",
   "metadata": {},
   "outputs": [],
   "source": []
  }
 ],
 "metadata": {
  "kernelspec": {
   "display_name": "Python 3 (ipykernel)",
   "language": "python",
   "name": "python3"
  },
  "language_info": {
   "codemirror_mode": {
    "name": "ipython",
    "version": 3
   },
   "file_extension": ".py",
   "mimetype": "text/x-python",
   "name": "python",
   "nbconvert_exporter": "python",
   "pygments_lexer": "ipython3",
   "version": "3.12.3"
  }
 },
 "nbformat": 4,
 "nbformat_minor": 5
}
