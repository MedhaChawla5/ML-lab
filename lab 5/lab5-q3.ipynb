{
 "cells": [
  {
   "cell_type": "code",
   "execution_count": 25,
   "id": "a26c8192",
   "metadata": {},
   "outputs": [
    {
     "name": "stdout",
     "output_type": "stream",
     "text": [
      "Model Accuracy: 100.00%\n",
      "Learned Parameters (Theta): [ 0.39021859  0.60946329 -1.5029822 ]\n"
     ]
    }
   ],
   "source": [
    "import numpy as np\n",
    "import pandas as pd\n",
    "\n",
    "data = {\n",
    "    'X1': [4, 2, 1, 3, 1,6],\n",
    "    'X2': [1, 8, 0, 2, 4,7],\n",
    "    'Y': [1, 0, 1, 0, 0 , 0]\n",
    "}\n",
    "df = pd.DataFrame(data)\n",
    "\n",
    "X = df[['X1', 'X2']].values\n",
    "Y = df['Y'].values\n",
    "\n",
    "X = np.c_[np.ones(X.shape[0]), X]\n",
    "\n",
    "def initialize_parameters(n_features):\n",
    "    return np.zeros(n_features)\n",
    "\n",
    "def sigmoid(z):\n",
    "    return 1 / (1 + np.exp(-z))\n",
    "\n",
    "def compute_cost(X, Y, theta):\n",
    "    m = len(Y)\n",
    "    predictions = sigmoid(np.dot(X, theta))\n",
    "    cost = (-1/m) * (np.dot(Y, np.log(predictions)) + np.dot((1 - Y), np.log(1 - predictions)))\n",
    "    return cost\n",
    "\n",
    "def gradient_descent(X, Y, theta, learning_rate, num_iterations):\n",
    "    m = len(Y)\n",
    "    costs = []\n",
    "    for _ in range(num_iterations):\n",
    "        predictions = sigmoid(np.dot(X, theta))\n",
    "        gradient = (1/m) * np.dot(X.T, (predictions - Y))\n",
    "        theta -= learning_rate * gradient\n",
    "        cost = compute_cost(X, Y, theta)\n",
    "        costs.append(cost)\n",
    "    return theta, costs\n",
    "\n",
    "learning_rate = 0.1\n",
    "num_iterations = 100\n",
    "\n",
    "\n",
    "n_features = X.shape[1]\n",
    "theta = initialize_parameters(n_features)\n",
    "\n",
    "theta, costs = gradient_descent(X, Y, theta, learning_rate, num_iterations)\n",
    "\n",
    "def predict(X, theta):\n",
    "    probabilities = sigmoid(np.dot(X, theta))\n",
    "    return [1 if p >= 0.5 else 0 for p in probabilities]\n",
    "\n",
    "predictions = predict(X, theta)\n",
    "\n",
    "accuracy = np.mean(predictions == Y)\n",
    "print(f\"Model Accuracy: {accuracy * 100:.2f}%\")\n",
    "print(\"Learned Parameters (Theta):\", theta)\n"
   ]
  },
  {
   "cell_type": "code",
   "execution_count": 28,
   "id": "8ec12535",
   "metadata": {},
   "outputs": [
    {
     "name": "stdout",
     "output_type": "stream",
     "text": [
      "-0.7873999999999994\n"
     ]
    }
   ],
   "source": [
    "print(0.3902 + 3*0.6094 -2*1.5029)"
   ]
  },
  {
   "cell_type": "code",
   "execution_count": null,
   "id": "255c03f0",
   "metadata": {},
   "outputs": [],
   "source": []
  }
 ],
 "metadata": {
  "kernelspec": {
   "display_name": "Python 3 (ipykernel)",
   "language": "python",
   "name": "python3"
  },
  "language_info": {
   "codemirror_mode": {
    "name": "ipython",
    "version": 3
   },
   "file_extension": ".py",
   "mimetype": "text/x-python",
   "name": "python",
   "nbconvert_exporter": "python",
   "pygments_lexer": "ipython3",
   "version": "3.12.3"
  }
 },
 "nbformat": 4,
 "nbformat_minor": 5
}
