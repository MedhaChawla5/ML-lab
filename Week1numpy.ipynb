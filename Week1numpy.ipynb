{
 "cells": [
  {
   "cell_type": "code",
   "execution_count": 11,
   "id": "d728c9db",
   "metadata": {},
   "outputs": [
    {
     "name": "stdout",
     "output_type": "stream",
     "text": [
      "[[0 1 2]\n",
      " [3 4 5]\n",
      " [6 7 8]]\n"
     ]
    }
   ],
   "source": [
    "import numpy as np\n",
    "a = np.arange(9)\n",
    "a = a.reshape(3,3)\n",
    "print(a)"
   ]
  },
  {
   "cell_type": "code",
   "execution_count": 12,
   "id": "88ce5798",
   "metadata": {},
   "outputs": [
    {
     "name": "stdout",
     "output_type": "stream",
     "text": [
      "[ 0 -1  2 -1  4 -1  6 -1  8 -1]\n"
     ]
    }
   ],
   "source": [
    "\n",
    "a = np.array([0,1,2,3,4,5,6,7,8,9])\n",
    "for i in range (10):\n",
    "    if(a[i]%2!=0):\n",
    "        a[i]=-1\n",
    "print(a)"
   ]
  },
  {
   "cell_type": "code",
   "execution_count": 22,
   "id": "7e2e41b1",
   "metadata": {},
   "outputs": [
    {
     "data": {
      "text/plain": [
       "(array([0.]), array([1., 2., 4., 5., 6., 7., 8., 9.]))"
      ]
     },
     "execution_count": 22,
     "metadata": {},
     "output_type": "execute_result"
    }
   ],
   "source": [
    "\n",
    "x = np.array([21, 64, 86, 22, 74, 55, 81, 79, 90, 89]) \n",
    "y = np.array([21, 7, 3, 45, 10, 29, 55, 4, 37, 18])\n",
    "equal = np.array([])\n",
    "greater = np.array([])\n",
    "for i in range(10):\n",
    "    if(x[i]==y[i]):\n",
    "        equal=np.append(equal,i)\n",
    "    elif(x[i]>y[i]):\n",
    "        greater=np.append(greater,i)\n",
    "equal,greater\n",
    "        \n",
    "        \n",
    "\n"
   ]
  },
  {
   "cell_type": "code",
   "execution_count": 54,
   "id": "d1b10ff9",
   "metadata": {},
   "outputs": [
    {
     "name": "stdout",
     "output_type": "stream",
     "text": [
      "[[ 0  1  2  3]\n",
      " [20 21 22 23]\n",
      " [40 41 42 43]\n",
      " [60 61 62 63]\n",
      " [80 81 82 83]]\n"
     ]
    }
   ],
   "source": [
    "a = np.arange(100).reshape(5,-1)\n",
    "print(a[0:5,0:4])"
   ]
  },
  {
   "cell_type": "code",
   "execution_count": 37,
   "id": "a8273804",
   "metadata": {},
   "outputs": [
    {
     "name": "stdout",
     "output_type": "stream",
     "text": [
      "[31 30 38 31 33 39 38 40 38 30]\n"
     ]
    }
   ],
   "source": [
    "\n",
    "a = np.random.randint(30,41,size=10)\n",
    "print(a)"
   ]
  },
  {
   "cell_type": "code",
   "execution_count": 53,
   "id": "4ee207a0",
   "metadata": {},
   "outputs": [
    {
     "name": "stdout",
     "output_type": "stream",
     "text": [
      "Addition : \n",
      "[[ 8 10 12]\n",
      " [ 8 10 12]\n",
      " [ 8 10 12]]\n",
      "Subtraction : \n",
      "[[-6 -6 -6]\n",
      " [ 0  0  0]\n",
      " [ 6  6  6]]\n",
      "Product : \n",
      "[[ 7 16 27]\n",
      " [16 25 36]\n",
      " [ 7 16 27]]\n",
      "Transpose : \n",
      "[[-6  0  6]\n",
      " [-6  0  6]\n",
      " [-6  0  6]]\n",
      "Sum of all elements of matrix A is : 45\n",
      "Sum of each column in B :  [24 15  6]\n",
      "Sum of each row in C :  [24 30 36]\n",
      "Sorted C : \n",
      "[[ 8  8  8]\n",
      " [10 10 10]\n",
      " [12 12 12]]\n"
     ]
    }
   ],
   "source": [
    "\n",
    "A = np.arange(1,10).reshape(3,3)\n",
    "B = np.array(([7,8,9],[4,5,6],[1,2,3]))\n",
    "\n",
    "C = A+B\n",
    "print(\"Addition : \")\n",
    "print(C)\n",
    "\n",
    "E = A-B\n",
    "print(\"Subtraction : \")\n",
    "print(E)\n",
    "\n",
    "D = A*B\n",
    "print(\"Product : \")\n",
    "print(D)\n",
    "\n",
    "transpose = E.T\n",
    "print(\"Transpose : \")\n",
    "print(transpose)\n",
    "\n",
    "sum_A = np.sum(A)\n",
    "print(\"Sum of all elements of matrix A is :\",sum_A)\n",
    "\n",
    "sum_c = np.sum(B,axis = 1)\n",
    "print(\"Sum of each column in B : \",sum_c)\n",
    "\n",
    "sum_r = np.sum(C,axis = 0)\n",
    "print(\"Sum of each row in C : \",sum_r)\n",
    "\n",
    "sor = np.sort(C,axis = None).reshape(C.shape)\n",
    "print(\"Sorted C : \")\n",
    "print(sor)\n",
    "\n",
    "\n"
   ]
  },
  {
   "cell_type": "code",
   "execution_count": null,
   "id": "391fa260",
   "metadata": {},
   "outputs": [],
   "source": []
  }
 ],
 "metadata": {
  "kernelspec": {
   "display_name": "Python 3 (ipykernel)",
   "language": "python",
   "name": "python3"
  },
  "language_info": {
   "codemirror_mode": {
    "name": "ipython",
    "version": 3
   },
   "file_extension": ".py",
   "mimetype": "text/x-python",
   "name": "python",
   "nbconvert_exporter": "python",
   "pygments_lexer": "ipython3",
   "version": "3.12.3"
  }
 },
 "nbformat": 4,
 "nbformat_minor": 5
}
